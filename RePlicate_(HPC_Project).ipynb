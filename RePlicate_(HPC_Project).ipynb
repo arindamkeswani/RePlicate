{
  "nbformat": 4,
  "nbformat_minor": 0,
  "metadata": {
    "colab": {
      "name": "RePlicate (HPC Project).ipynb",
      "provenance": [],
      "collapsed_sections": [],
      "authorship_tag": "ABX9TyML7RZbuUGfy2giAkNvobTM",
      "include_colab_link": true
    },
    "kernelspec": {
      "name": "python3",
      "display_name": "Python 3"
    },
    "language_info": {
      "name": "python"
    }
  },
  "cells": [
    {
      "cell_type": "markdown",
      "metadata": {
        "id": "view-in-github",
        "colab_type": "text"
      },
      "source": [
        "<a href=\"https://colab.research.google.com/github/arindamkeswani/RePlicate/blob/main/RePlicate_(HPC_Project).ipynb\" target=\"_parent\"><img src=\"https://colab.research.google.com/assets/colab-badge.svg\" alt=\"Open In Colab\"/></a>"
      ]
    },
    {
      "cell_type": "markdown",
      "metadata": {
        "id": "-IzEhkGMHZ3B"
      },
      "source": [
        "Observations and assumptions so far:\n",
        "1. Since an online plag checker would work on a cloud platform, we abandoned local testing in favour of a platform like Colab, as that would give results that are more realistic\n",
        "2. Major tests done include comparing the execution time taken by:\n",
        "  1. Serial implementation (for base time)\n",
        "  2. Multiprocessing library (for base data-parallelism time)\n",
        "  3. Numba library (for potential in-built optimum time)\n",
        "  4. If time permits, other libraries such as CUDA will be considered for implementation\n",
        "\n",
        "3. Other libraries, such as iparallel are performing worse than expected, and worse than serial implementation, so they were left out of the final analysis\n",
        "4. Text files will be fed as input to the program (to be serially or manually converted beforehand since this project focusses of parallel plagiarism, detection, not conversion)\n",
        "\n",
        "5. Final output will consist of two parts from the perspective of:\n",
        " 1. Product: Dataframe/spreadsheet type structure, showing level of plagiarism between files\n",
        " 2. Reasearch: A time-based comparison between the aforementioned methodologies.\n",
        "\n",
        " Original outcome expected data parallelism to perform better, but that is not the case, hence a black implemetation had to be adopted for successful completion.\n",
        "\n",
        "\n",
        "---\n",
        "\n",
        "Implementation:\n",
        "1. First part involves building the plag-checker and applying the various devised methodologies.\n",
        "2. The next step is building a PDF-to-text converter. The goal is to build a simple converter but if time permits, it will be implemented in parallel. \n",
        "3. The aim of the project is to create the first two modules. Future implementation will involve integrating the two modules together."
      ]
    },
    {
      "cell_type": "code",
      "metadata": {
        "colab": {
          "resources": {
            "http://localhost:8080/nbextensions/google.colab/files.js": {
              "data": "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",
              "ok": true,
              "headers": [
                [
                  "content-type",
                  "application/javascript"
                ]
              ],
              "status": 200,
              "status_text": ""
            }
          },
          "base_uri": "https://localhost:8080/",
          "height": 140
        },
        "id": "900cuLNHyOwm",
        "outputId": "b35c8969-068c-43e6-a5dd-1888b763dc79"
      },
      "source": [
        "from google.colab import files \n",
        "uploaded = files.upload()"
      ],
      "execution_count": 1,
      "outputs": [
        {
          "output_type": "display_data",
          "data": {
            "text/html": [
              "\n",
              "     <input type=\"file\" id=\"files-e116f715-865d-4509-b1d7-54a36a8607f7\" name=\"files[]\" multiple disabled\n",
              "        style=\"border:none\" />\n",
              "     <output id=\"result-e116f715-865d-4509-b1d7-54a36a8607f7\">\n",
              "      Upload widget is only available when the cell has been executed in the\n",
              "      current browser session. Please rerun this cell to enable.\n",
              "      </output>\n",
              "      <script src=\"/nbextensions/google.colab/files.js\"></script> "
            ],
            "text/plain": [
              "<IPython.core.display.HTML object>"
            ]
          },
          "metadata": {
            "tags": []
          }
        },
        {
          "output_type": "stream",
          "text": [
            "Saving fatma.txt to fatma.txt\n",
            "Saving john.txt to john.txt\n",
            "Saving juma.txt to juma.txt\n"
          ],
          "name": "stdout"
        }
      ]
    },
    {
      "cell_type": "code",
      "metadata": {
        "id": "fzcoSlXM8ODC"
      },
      "source": [
        "import os\n",
        "from sklearn.feature_extraction.text import TfidfVectorizer\n",
        "from sklearn.metrics.pairwise import cosine_similarity\n",
        "import numpy as np\n",
        "import time\n",
        "import pandas as pd\n",
        "from numba import jit\n",
        "from numba import njit\n",
        "from numba.typed import List"
      ],
      "execution_count": 55,
      "outputs": []
    },
    {
      "cell_type": "code",
      "metadata": {
        "id": "ZJR7IIRm8mmD"
      },
      "source": [
        "student_files = [doc for doc in os.listdir() if doc.endswith('.txt')] #store all text files\n",
        "student_notes =[open(File).read() for File in  student_files] #stores all lines of all files"
      ],
      "execution_count": 56,
      "outputs": []
    },
    {
      "cell_type": "code",
      "metadata": {
        "id": "Qnz0F40y8wyQ"
      },
      "source": [
        "vectorize = lambda Text: TfidfVectorizer().fit_transform(Text).toarray()  #to vectorize the words of text files\n",
        "# similarity = lambda doc1, doc2: cosine_similarity([doc1, doc2]) #to store similarity of two documents"
      ],
      "execution_count": 57,
      "outputs": []
    },
    {
      "cell_type": "code",
      "metadata": {
        "id": "NmHNPgDc9Yja"
      },
      "source": [
        "vectors = vectorize(student_notes) #store vectorized values\n",
        "s_vectors = list(zip(student_files, vectors)) #store it with file names\n",
        "# plagiarism_results = set() #to store results in a set\n",
        "plagiarism_results =[]\n",
        "# s_vectors"
      ],
      "execution_count": 58,
      "outputs": []
    },
    {
      "cell_type": "code",
      "metadata": {
        "id": "v9ZFGSRJAN2M"
      },
      "source": [
        "def similarity(doc1, doc2):\n",
        "  return cosine_similarity([doc1, doc2])"
      ],
      "execution_count": 121,
      "outputs": []
    },
    {
      "cell_type": "code",
      "metadata": {
        "id": "jEjPd93g9Zss"
      },
      "source": [
        "def check_plagiarism(s_vectors_partial):\n",
        "    # similarity = lambda doc1, doc2: cosine_similarity([doc1, doc2]) #to store similarity of two documents\n",
        "    plagiarism_results =[]\n",
        "    print(\"Starting process...\")\n",
        "    global s_vectors\n",
        "    for student_a, text_vector_a in s_vectors_partial:  #traverse through students and their vectors (for first document)\n",
        "        # print(f\"Started testing:{student_a}\")\n",
        "        print(\"Started testing:\",student_a)\n",
        "        new_vectors = s_vectors.copy() \n",
        "        \n",
        "        # current_index = new_vectors.index((student_a, text_vector_a))\n",
        "        # del new_vectors[current_index]\n",
        "        \n",
        "\n",
        "        for student_b , text_vector_b in new_vectors: #traverse through students and their vectors (for second document)\n",
        "            # print(f\"Testing {student_a} against {student_b}\")\n",
        "            print(\"Testing\",student_a,\"against\",student_b)\n",
        "            sim_score = similarity(text_vector_a, text_vector_b)[0][1] #calculate similarity of both documents\n",
        "            # student_pair = sorted((student_a, student_b)) \n",
        "            student_pair = (student_a, student_b) \n",
        "            # score = (student_pair[0], student_pair[1],sim_score)\n",
        "            score = [student_pair[0], student_pair[1],sim_score]\n",
        "            # plagiarism_results.add(score) #add score with file names into the set\n",
        "            plagiarism_results.append(score)\n",
        "            print(\"Finished testing\",student_a,\"against\",student_b)\n",
        "        print()\n",
        "    return plagiarism_results  \n",
        "    # return createTable(plagiarism_results)\n",
        "\n",
        "def createTable(ans):\n",
        "    df=pd.DataFrame(np.zeros((len(student_files),len(student_files))),index=student_files,columns=student_files)\n",
        "\n",
        "    for data in ans:\n",
        "      for rowName in range(len(student_files)):\n",
        "        if df.index[rowName]==data[0]:\n",
        "          r=rowName\n",
        "          for colName in range(len(student_files)):\n",
        "            if df.index[colName]==data[1]:\n",
        "              c=colName\n",
        "\n",
        "              df.iloc[r,c] = data[2]\n",
        "    return df"
      ],
      "execution_count": 122,
      "outputs": []
    },
    {
      "cell_type": "code",
      "metadata": {
        "colab": {
          "base_uri": "https://localhost:8080/"
        },
        "id": "YsKAiRP49jes",
        "outputId": "35e54294-ffd7-4115-dae6-2de2401ec239"
      },
      "source": [
        "#Serial\n",
        "%%time\n",
        "start=time.time()\n",
        "ans=check_plagiarism(s_vectors)\n",
        "df=createTable(ans)\n",
        "\n",
        "end=time.time()\n",
        "print()\n",
        "print(\"Time taken:\", end-start)"
      ],
      "execution_count": 123,
      "outputs": [
        {
          "output_type": "stream",
          "text": [
            "Starting process...\n",
            "Started testing: juma.txt\n",
            "Testing juma.txt against juma.txt\n",
            "Finished testing juma.txt against juma.txt\n",
            "Testing juma.txt against fatma.txt\n",
            "Finished testing juma.txt against fatma.txt\n",
            "Testing juma.txt against john.txt\n",
            "Finished testing juma.txt against john.txt\n",
            "\n",
            "Started testing: fatma.txt\n",
            "Testing fatma.txt against juma.txt\n",
            "Finished testing fatma.txt against juma.txt\n",
            "Testing fatma.txt against fatma.txt\n",
            "Finished testing fatma.txt against fatma.txt\n",
            "Testing fatma.txt against john.txt\n",
            "Finished testing fatma.txt against john.txt\n",
            "\n",
            "Started testing: john.txt\n",
            "Testing john.txt against juma.txt\n",
            "Finished testing john.txt against juma.txt\n",
            "Testing john.txt against fatma.txt\n",
            "Finished testing john.txt against fatma.txt\n",
            "Testing john.txt against john.txt\n",
            "Finished testing john.txt against john.txt\n",
            "\n",
            "\n",
            "Time taken: 0.018192291259765625\n",
            "CPU times: user 21.1 ms, sys: 1.31 ms, total: 22.4 ms\n",
            "Wall time: 18.3 ms\n"
          ],
          "name": "stdout"
        }
      ]
    },
    {
      "cell_type": "code",
      "metadata": {
        "colab": {
          "base_uri": "https://localhost:8080/",
          "height": 136
        },
        "id": "v7HkqZoYz1RI",
        "outputId": "f272e19b-d34b-48cb-ab4a-154411399dcd"
      },
      "source": [
        "df"
      ],
      "execution_count": 124,
      "outputs": [
        {
          "output_type": "execute_result",
          "data": {
            "text/html": [
              "<div>\n",
              "<style scoped>\n",
              "    .dataframe tbody tr th:only-of-type {\n",
              "        vertical-align: middle;\n",
              "    }\n",
              "\n",
              "    .dataframe tbody tr th {\n",
              "        vertical-align: top;\n",
              "    }\n",
              "\n",
              "    .dataframe thead th {\n",
              "        text-align: right;\n",
              "    }\n",
              "</style>\n",
              "<table border=\"1\" class=\"dataframe\">\n",
              "  <thead>\n",
              "    <tr style=\"text-align: right;\">\n",
              "      <th></th>\n",
              "      <th>juma.txt</th>\n",
              "      <th>fatma.txt</th>\n",
              "      <th>john.txt</th>\n",
              "    </tr>\n",
              "  </thead>\n",
              "  <tbody>\n",
              "    <tr>\n",
              "      <th>juma.txt</th>\n",
              "      <td>1.000000</td>\n",
              "      <td>0.186434</td>\n",
              "      <td>0.546597</td>\n",
              "    </tr>\n",
              "    <tr>\n",
              "      <th>fatma.txt</th>\n",
              "      <td>0.186434</td>\n",
              "      <td>1.000000</td>\n",
              "      <td>0.148069</td>\n",
              "    </tr>\n",
              "    <tr>\n",
              "      <th>john.txt</th>\n",
              "      <td>0.546597</td>\n",
              "      <td>0.148069</td>\n",
              "      <td>1.000000</td>\n",
              "    </tr>\n",
              "  </tbody>\n",
              "</table>\n",
              "</div>"
            ],
            "text/plain": [
              "           juma.txt  fatma.txt  john.txt\n",
              "juma.txt   1.000000   0.186434  0.546597\n",
              "fatma.txt  0.186434   1.000000  0.148069\n",
              "john.txt   0.546597   0.148069  1.000000"
            ]
          },
          "metadata": {
            "tags": []
          },
          "execution_count": 124
        }
      ]
    },
    {
      "cell_type": "markdown",
      "metadata": {
        "id": "Qns4N_TU2ouX"
      },
      "source": [
        "\n",
        "\n",
        "---\n",
        "\n",
        "Parallel [Manual] approach"
      ]
    },
    {
      "cell_type": "markdown",
      "metadata": {
        "id": "jorU1AcFMXJq"
      },
      "source": [
        "Ways to achieve data parallelism:\n",
        "1. Divide s_vectors in parts (more likely)\n",
        "2. Divide s_vectors[0][1] in parts (potential)"
      ]
    },
    {
      "cell_type": "code",
      "metadata": {
        "id": "g6z82hou8J4t",
        "colab": {
          "base_uri": "https://localhost:8080/"
        },
        "outputId": "7d879c48-4faf-4bf6-e493-03fd84e8b873"
      },
      "source": [
        "#Parallel [Manual] Part 1\n",
        "start=time.time()\n",
        "ans=check_plagiarism(s_vectors[:len(s_vectors)//2])\n",
        "\n",
        "# for data in ans:\n",
        "#     print(data)\n",
        "print(createTable(ans))\n",
        "end=time.time()\n",
        "print()\n",
        "print(\"Time taken:\", end-start)"
      ],
      "execution_count": 116,
      "outputs": [
        {
          "output_type": "stream",
          "text": [
            "Starting process...\n",
            "Started testing: juma.txt\n",
            "Testing juma.txt against juma.txt\n",
            "Finished testing juma.txt against juma.txt\n",
            "Testing juma.txt against fatma.txt\n",
            "Finished testing juma.txt against fatma.txt\n",
            "Testing juma.txt against john.txt\n",
            "Finished testing juma.txt against john.txt\n",
            "\n",
            "           juma.txt  fatma.txt  john.txt\n",
            "juma.txt        1.0   0.186434  0.546597\n",
            "fatma.txt       0.0   0.000000  0.000000\n",
            "john.txt        0.0   0.000000  0.000000\n",
            "\n",
            "Time taken: 0.017520666122436523\n"
          ],
          "name": "stdout"
        }
      ]
    },
    {
      "cell_type": "code",
      "metadata": {
        "id": "CS344D-c8J1a",
        "colab": {
          "base_uri": "https://localhost:8080/"
        },
        "outputId": "d0450f97-d0cb-40b1-b191-dcea68c353af"
      },
      "source": [
        "#Parallel [Manual] Part 2\n",
        "start=time.time()\n",
        "ans=check_plagiarism(s_vectors[len(s_vectors)//2:])\n",
        "\n",
        "# for data in ans:\n",
        "#     print(data)\n",
        "print(createTable(ans))\n",
        "end=time.time()\n",
        "print()\n",
        "print(\"Time taken:\", end-start)"
      ],
      "execution_count": 117,
      "outputs": [
        {
          "output_type": "stream",
          "text": [
            "Starting process...\n",
            "Started testing: fatma.txt\n",
            "Testing fatma.txt against juma.txt\n",
            "Finished testing fatma.txt against juma.txt\n",
            "Testing fatma.txt against fatma.txt\n",
            "Finished testing fatma.txt against fatma.txt\n",
            "Testing fatma.txt against john.txt\n",
            "Finished testing fatma.txt against john.txt\n",
            "\n",
            "Started testing: john.txt\n",
            "Testing john.txt against juma.txt\n",
            "Finished testing john.txt against juma.txt\n",
            "Testing john.txt against fatma.txt\n",
            "Finished testing john.txt against fatma.txt\n",
            "Testing john.txt against john.txt\n",
            "Finished testing john.txt against john.txt\n",
            "\n",
            "           juma.txt  fatma.txt  john.txt\n",
            "juma.txt   0.000000   0.000000  0.000000\n",
            "fatma.txt  0.186434   1.000000  0.148069\n",
            "john.txt   0.546597   0.148069  1.000000\n",
            "\n",
            "Time taken: 0.0187532901763916\n"
          ],
          "name": "stdout"
        }
      ]
    },
    {
      "cell_type": "markdown",
      "metadata": {
        "id": "RmnLBHwF21-f"
      },
      "source": [
        "\n",
        "\n",
        "---\n",
        "\n"
      ]
    },
    {
      "cell_type": "markdown",
      "metadata": {
        "id": "seR8atlp24fd"
      },
      "source": [
        "\n",
        "\n",
        "---\n",
        "\n",
        "Multiprocessing approach"
      ]
    },
    {
      "cell_type": "code",
      "metadata": {
        "id": "yYc0Srm6MWN6"
      },
      "source": [
        "s_vectors[:len(s_vectors)//2]"
      ],
      "execution_count": null,
      "outputs": []
    },
    {
      "cell_type": "code",
      "metadata": {
        "colab": {
          "base_uri": "https://localhost:8080/"
        },
        "id": "wBnOp2aVKNDc",
        "outputId": "6eaa6ded-599d-4ced-8f8d-eff5f0a0d850"
      },
      "source": [
        "#Multiprocessing approach\n",
        "import multiprocessing\n",
        "import os\n",
        "\n",
        "# def worker1(func1): \n",
        "#   func1(m)\n",
        "  \n",
        "\n",
        "start=time.time()\n",
        "\n",
        "pool = multiprocessing.Pool(processes=2) \n",
        "\n",
        "\n",
        "\n",
        "l1 = s_vectors[:len(s_vectors)//2]\n",
        "l2 = s_vectors[len(s_vectors)//2:]\n",
        "\n",
        "start=time.time()\n",
        "\n",
        "result = pool.map(check_plagiarism, [l1,l2])\n",
        "\n",
        "for i in result:\n",
        "  print(i)\n",
        "\n",
        "print(createTable(result))\n",
        "# print(result)\n",
        "\n",
        "end=time.time()\n",
        "\n",
        "# ty.append(\"Multiprocessing [50000 elements]\")\n",
        "# t.append(end-start)\n",
        "\n",
        "print(\"Time taken: \",end-start)"
      ],
      "execution_count": 118,
      "outputs": [
        {
          "output_type": "stream",
          "text": [
            "Starting process...\n",
            "Starting process...\n",
            "Started testing: juma.txt\n",
            "Testing juma.txt against juma.txt\n",
            "Finished testing juma.txt against juma.txt\n",
            "Testing juma.txt against fatma.txt\n",
            "Started testing: fatma.txt\n",
            "Testing fatma.txt against juma.txt\n",
            "Finished testing juma.txt against fatma.txt\n",
            "Testing juma.txt against john.txt\n",
            "Finished testing fatma.txt against juma.txt\n",
            "Finished testing juma.txt against john.txt\n",
            "Testing fatma.txt against fatma.txt\n",
            "\n",
            "Finished testing fatma.txt against fatma.txt\n",
            "Testing fatma.txt against john.txt\n",
            "Finished testing fatma.txt against john.txt\n",
            "\n",
            "Started testing: john.txt\n",
            "Testing john.txt against juma.txt\n",
            "Finished testing john.txt against juma.txt\n",
            "Testing john.txt against fatma.txt\n",
            "Finished testing john.txt against fatma.txt\n",
            "Testing john.txt against john.txt\n",
            "Finished testing john.txt against john.txt\n",
            "\n",
            "[['juma.txt', 'juma.txt', 1.0000000000000004], ['juma.txt', 'fatma.txt', 0.18643448370323362], ['juma.txt', 'john.txt', 0.5465972177348937]]\n",
            "[['fatma.txt', 'juma.txt', 0.18643448370323362], ['fatma.txt', 'fatma.txt', 1.0], ['fatma.txt', 'john.txt', 0.14806887549598566], ['john.txt', 'juma.txt', 0.5465972177348937], ['john.txt', 'fatma.txt', 0.14806887549598566], ['john.txt', 'john.txt', 1.0]]\n",
            "           juma.txt  fatma.txt  john.txt\n",
            "juma.txt        0.0        0.0       0.0\n",
            "fatma.txt       0.0        0.0       0.0\n",
            "john.txt        0.0        0.0       0.0\n",
            "Time taken:  0.11156344413757324\n"
          ],
          "name": "stdout"
        }
      ]
    },
    {
      "cell_type": "markdown",
      "metadata": {
        "id": "z7YD1ch12-Z6"
      },
      "source": [
        "\n",
        "\n",
        "---\n",
        "\n",
        "Numba approach"
      ]
    },
    {
      "cell_type": "code",
      "metadata": {
        "id": "Sv54E13Z5mRF"
      },
      "source": [
        "#Numba approach\n",
        "from numba.core.errors import NumbaDeprecationWarning, NumbaPendingDeprecationWarning\n",
        "import warnings\n",
        "\n",
        "warnings.simplefilter('ignore', category=NumbaDeprecationWarning)\n",
        "warnings.simplefilter('ignore', category=NumbaPendingDeprecationWarning)"
      ],
      "execution_count": 125,
      "outputs": []
    },
    {
      "cell_type": "code",
      "metadata": {
        "colab": {
          "base_uri": "https://localhost:8080/"
        },
        "id": "mhL9uyqXu3E_",
        "outputId": "11b5d961-e48d-47b9-faec-ce212a942696"
      },
      "source": [
        "%%time\n",
        "start=time.time()\n",
        "# try:\n",
        "\n",
        "num_res= jit(parallel=True)(check_plagiarism)\n",
        "a=num_res(s_vectors)\n",
        "\n",
        "end=time.time()\n"
      ],
      "execution_count": 127,
      "outputs": [
        {
          "output_type": "stream",
          "text": [
            "<ipython-input-122-6caef6bd4f15>:1: NumbaWarning: \n",
            "Compilation is falling back to object mode WITH looplifting enabled because Function \"check_plagiarism\" failed type inference due to: Untyped global name 'similarity': cannot determine Numba type of <class 'function'>\n",
            "\n",
            "File \"<ipython-input-122-6caef6bd4f15>\", line 18:\n",
            "def check_plagiarism(s_vectors_partial):\n",
            "    <source elided>\n",
            "            print(\"Testing\",student_a,\"against\",student_b)\n",
            "            sim_score = similarity(text_vector_a, text_vector_b)[0][1] #calculate similarity of both documents\n",
            "            ^\n",
            "\n",
            "  def check_plagiarism(s_vectors_partial):\n",
            "<ipython-input-122-6caef6bd4f15>:1: NumbaWarning: \n",
            "Compilation is falling back to object mode WITHOUT looplifting enabled because Function \"check_plagiarism\" failed type inference due to: cannot determine Numba type of <class 'numba.core.dispatcher.LiftedLoop'>\n",
            "\n",
            "File \"<ipython-input-122-6caef6bd4f15>\", line 6:\n",
            "def check_plagiarism(s_vectors_partial):\n",
            "    <source elided>\n",
            "    global s_vectors\n",
            "    for student_a, text_vector_a in s_vectors_partial:  #traverse through students and their vectors (for first document)\n",
            "    ^\n",
            "\n",
            "  def check_plagiarism(s_vectors_partial):\n",
            "/usr/local/lib/python3.7/dist-packages/numba/core/object_mode_passes.py:178: NumbaWarning: Function \"check_plagiarism\" was compiled in object mode without forceobj=True, but has lifted loops.\n",
            "\n",
            "File \"<ipython-input-122-6caef6bd4f15>\", line 3:\n",
            "def check_plagiarism(s_vectors_partial):\n",
            "    <source elided>\n",
            "    # similarity = lambda doc1, doc2: cosine_similarity([doc1, doc2]) #to store similarity of two documents\n",
            "    plagiarism_results =[]\n",
            "    ^\n",
            "\n",
            "  state.func_ir.loc))\n",
            "<ipython-input-122-6caef6bd4f15>:1: NumbaWarning: \n",
            "Compilation is falling back to object mode WITHOUT looplifting enabled because Function \"check_plagiarism\" failed type inference due to: Untyped global name 'similarity': cannot determine Numba type of <class 'function'>\n",
            "\n",
            "File \"<ipython-input-122-6caef6bd4f15>\", line 18:\n",
            "def check_plagiarism(s_vectors_partial):\n",
            "    <source elided>\n",
            "            print(\"Testing\",student_a,\"against\",student_b)\n",
            "            sim_score = similarity(text_vector_a, text_vector_b)[0][1] #calculate similarity of both documents\n",
            "            ^\n",
            "\n",
            "  def check_plagiarism(s_vectors_partial):\n"
          ],
          "name": "stderr"
        },
        {
          "output_type": "stream",
          "text": [
            "Starting process...\n",
            "Started testing: juma.txt\n",
            "Testing juma.txt against juma.txt\n",
            "Finished testing juma.txt against juma.txt\n",
            "Testing juma.txt against fatma.txt\n",
            "Finished testing juma.txt against fatma.txt\n",
            "Testing juma.txt against john.txt\n",
            "Finished testing juma.txt against john.txt\n",
            "\n",
            "Started testing: fatma.txt\n",
            "Testing fatma.txt against juma.txt\n",
            "Finished testing fatma.txt against juma.txt\n",
            "Testing fatma.txt against fatma.txt\n",
            "Finished testing fatma.txt against fatma.txt\n",
            "Testing fatma.txt against john.txt\n",
            "Finished testing fatma.txt against john.txt\n",
            "\n",
            "Started testing: john.txt\n",
            "Testing john.txt against juma.txt\n",
            "Finished testing john.txt against juma.txt\n",
            "Testing john.txt against fatma.txt\n",
            "Finished testing john.txt against fatma.txt\n",
            "Testing john.txt against john.txt\n",
            "Finished testing john.txt against john.txt\n",
            "\n",
            "CPU times: user 690 ms, sys: 39.8 ms, total: 730 ms\n",
            "Wall time: 728 ms\n"
          ],
          "name": "stdout"
        },
        {
          "output_type": "stream",
          "text": [
            "/usr/local/lib/python3.7/dist-packages/numba/core/object_mode_passes.py:178: NumbaWarning: Function \"check_plagiarism\" was compiled in object mode without forceobj=True.\n",
            "\n",
            "File \"<ipython-input-122-6caef6bd4f15>\", line 6:\n",
            "def check_plagiarism(s_vectors_partial):\n",
            "    <source elided>\n",
            "    global s_vectors\n",
            "    for student_a, text_vector_a in s_vectors_partial:  #traverse through students and their vectors (for first document)\n",
            "    ^\n",
            "\n",
            "  state.func_ir.loc))\n"
          ],
          "name": "stderr"
        }
      ]
    },
    {
      "cell_type": "code",
      "metadata": {
        "id": "IXxqMnzjq1_m",
        "colab": {
          "base_uri": "https://localhost:8080/"
        },
        "outputId": "912531fa-f137-4825-fd59-14aa9997d622"
      },
      "source": [
        "#Convert set into\n",
        "print(\"Time taken: \", end-start)"
      ],
      "execution_count": 106,
      "outputs": [
        {
          "output_type": "stream",
          "text": [
            "Time taken:  0.6218178272247314\n"
          ],
          "name": "stdout"
        }
      ]
    },
    {
      "cell_type": "code",
      "metadata": {
        "id": "zu8f6cAhq18K",
        "colab": {
          "base_uri": "https://localhost:8080/",
          "height": 136
        },
        "outputId": "8f22c74a-7603-48f5-b094-2c31bbb58d0f"
      },
      "source": [
        "df2=createTable(a)\n",
        "df2"
      ],
      "execution_count": 128,
      "outputs": [
        {
          "output_type": "execute_result",
          "data": {
            "text/html": [
              "<div>\n",
              "<style scoped>\n",
              "    .dataframe tbody tr th:only-of-type {\n",
              "        vertical-align: middle;\n",
              "    }\n",
              "\n",
              "    .dataframe tbody tr th {\n",
              "        vertical-align: top;\n",
              "    }\n",
              "\n",
              "    .dataframe thead th {\n",
              "        text-align: right;\n",
              "    }\n",
              "</style>\n",
              "<table border=\"1\" class=\"dataframe\">\n",
              "  <thead>\n",
              "    <tr style=\"text-align: right;\">\n",
              "      <th></th>\n",
              "      <th>juma.txt</th>\n",
              "      <th>fatma.txt</th>\n",
              "      <th>john.txt</th>\n",
              "    </tr>\n",
              "  </thead>\n",
              "  <tbody>\n",
              "    <tr>\n",
              "      <th>juma.txt</th>\n",
              "      <td>1.000000</td>\n",
              "      <td>0.186434</td>\n",
              "      <td>0.546597</td>\n",
              "    </tr>\n",
              "    <tr>\n",
              "      <th>fatma.txt</th>\n",
              "      <td>0.186434</td>\n",
              "      <td>1.000000</td>\n",
              "      <td>0.148069</td>\n",
              "    </tr>\n",
              "    <tr>\n",
              "      <th>john.txt</th>\n",
              "      <td>0.546597</td>\n",
              "      <td>0.148069</td>\n",
              "      <td>1.000000</td>\n",
              "    </tr>\n",
              "  </tbody>\n",
              "</table>\n",
              "</div>"
            ],
            "text/plain": [
              "           juma.txt  fatma.txt  john.txt\n",
              "juma.txt   1.000000   0.186434  0.546597\n",
              "fatma.txt  0.186434   1.000000  0.148069\n",
              "john.txt   0.546597   0.148069  1.000000"
            ]
          },
          "metadata": {
            "tags": []
          },
          "execution_count": 128
        }
      ]
    },
    {
      "cell_type": "code",
      "metadata": {
        "id": "Ir3OILigq15o"
      },
      "source": [
        ""
      ],
      "execution_count": null,
      "outputs": []
    },
    {
      "cell_type": "markdown",
      "metadata": {
        "id": "2sGju9trqxMI"
      },
      "source": [
        "\n",
        "\n",
        "---\n",
        "\n",
        "\n",
        "Rough space"
      ]
    },
    {
      "cell_type": "code",
      "metadata": {
        "id": "Q8ETCIML1UBG"
      },
      "source": [
        "for data in ans:\n",
        "  for rowName in range(len(student_files)):\n",
        "    if df.index[rowName]==data[0]:\n",
        "      r=rowName\n",
        "      for colName in range(len(student_files)):\n",
        "        if df.index[colName]==data[1]:\n",
        "          c=colName\n",
        "\n",
        "          df.iloc[r,c] = data[2]\n",
        "df"
      ],
      "execution_count": null,
      "outputs": []
    },
    {
      "cell_type": "code",
      "metadata": {
        "id": "Wrl1bOiJ2p4m"
      },
      "source": [
        "df=pd.DataFrame(np.zeros((len(student_files),len(student_files))),index=student_files,columns=student_files)\n",
        "df"
      ],
      "execution_count": null,
      "outputs": []
    },
    {
      "cell_type": "code",
      "metadata": {
        "colab": {
          "base_uri": "https://localhost:8080/",
          "height": 136
        },
        "id": "UCBmGRfw9P9V",
        "outputId": "077661a5-b7e2-432a-ca97-8a881952f221"
      },
      "source": [
        "df2=pd.DataFrame(np.zeros((len(student_files),len(student_files))),index=student_files,columns=student_files)\n",
        "df2"
      ],
      "execution_count": null,
      "outputs": [
        {
          "output_type": "execute_result",
          "data": {
            "text/html": [
              "<div>\n",
              "<style scoped>\n",
              "    .dataframe tbody tr th:only-of-type {\n",
              "        vertical-align: middle;\n",
              "    }\n",
              "\n",
              "    .dataframe tbody tr th {\n",
              "        vertical-align: top;\n",
              "    }\n",
              "\n",
              "    .dataframe thead th {\n",
              "        text-align: right;\n",
              "    }\n",
              "</style>\n",
              "<table border=\"1\" class=\"dataframe\">\n",
              "  <thead>\n",
              "    <tr style=\"text-align: right;\">\n",
              "      <th></th>\n",
              "      <th>juma.txt</th>\n",
              "      <th>fatma.txt</th>\n",
              "      <th>john.txt</th>\n",
              "    </tr>\n",
              "  </thead>\n",
              "  <tbody>\n",
              "    <tr>\n",
              "      <th>juma.txt</th>\n",
              "      <td>0.0</td>\n",
              "      <td>0.0</td>\n",
              "      <td>0.0</td>\n",
              "    </tr>\n",
              "    <tr>\n",
              "      <th>fatma.txt</th>\n",
              "      <td>0.0</td>\n",
              "      <td>0.0</td>\n",
              "      <td>0.0</td>\n",
              "    </tr>\n",
              "    <tr>\n",
              "      <th>john.txt</th>\n",
              "      <td>0.0</td>\n",
              "      <td>0.0</td>\n",
              "      <td>0.0</td>\n",
              "    </tr>\n",
              "  </tbody>\n",
              "</table>\n",
              "</div>"
            ],
            "text/plain": [
              "           juma.txt  fatma.txt  john.txt\n",
              "juma.txt        0.0        0.0       0.0\n",
              "fatma.txt       0.0        0.0       0.0\n",
              "john.txt        0.0        0.0       0.0"
            ]
          },
          "metadata": {
            "tags": []
          },
          "execution_count": 91
        }
      ]
    },
    {
      "cell_type": "code",
      "metadata": {
        "colab": {
          "base_uri": "https://localhost:8080/",
          "height": 136
        },
        "id": "fswKVMHex1IV",
        "outputId": "c9cc5c8d-d786-445a-e12e-4cabba8dee3d"
      },
      "source": [
        "for data in a:\n",
        "  for rowName in range(len(student_files)):\n",
        "    if df2.index[rowName]==data[0]:\n",
        "      r=rowName\n",
        "      for colName in range(len(student_files)):\n",
        "        if df2.index[colName]==data[1]:\n",
        "          c=colName\n",
        "\n",
        "          df2.iloc[r,c] = data[2]\n",
        "df2"
      ],
      "execution_count": null,
      "outputs": [
        {
          "output_type": "execute_result",
          "data": {
            "text/html": [
              "<div>\n",
              "<style scoped>\n",
              "    .dataframe tbody tr th:only-of-type {\n",
              "        vertical-align: middle;\n",
              "    }\n",
              "\n",
              "    .dataframe tbody tr th {\n",
              "        vertical-align: top;\n",
              "    }\n",
              "\n",
              "    .dataframe thead th {\n",
              "        text-align: right;\n",
              "    }\n",
              "</style>\n",
              "<table border=\"1\" class=\"dataframe\">\n",
              "  <thead>\n",
              "    <tr style=\"text-align: right;\">\n",
              "      <th></th>\n",
              "      <th>juma.txt</th>\n",
              "      <th>fatma.txt</th>\n",
              "      <th>john.txt</th>\n",
              "    </tr>\n",
              "  </thead>\n",
              "  <tbody>\n",
              "    <tr>\n",
              "      <th>juma.txt</th>\n",
              "      <td>1.000000</td>\n",
              "      <td>0.186434</td>\n",
              "      <td>0.546597</td>\n",
              "    </tr>\n",
              "    <tr>\n",
              "      <th>fatma.txt</th>\n",
              "      <td>0.186434</td>\n",
              "      <td>1.000000</td>\n",
              "      <td>0.148069</td>\n",
              "    </tr>\n",
              "    <tr>\n",
              "      <th>john.txt</th>\n",
              "      <td>0.546597</td>\n",
              "      <td>0.148069</td>\n",
              "      <td>1.000000</td>\n",
              "    </tr>\n",
              "  </tbody>\n",
              "</table>\n",
              "</div>"
            ],
            "text/plain": [
              "           juma.txt  fatma.txt  john.txt\n",
              "juma.txt   1.000000   0.186434  0.546597\n",
              "fatma.txt  0.186434   1.000000  0.148069\n",
              "john.txt   0.546597   0.148069  1.000000"
            ]
          },
          "metadata": {
            "tags": []
          },
          "execution_count": 92
        }
      ]
    },
    {
      "cell_type": "code",
      "metadata": {
        "id": "lt6Ww9HgyqXA"
      },
      "source": [
        "from numba import jit\n",
        "\n",
        "\n",
        "def sq(n):\n",
        "  s=0\n",
        "  for i in range(n):\n",
        "    s+=i**2\n",
        "  print(s)\n"
      ],
      "execution_count": 108,
      "outputs": []
    },
    {
      "cell_type": "code",
      "metadata": {
        "colab": {
          "base_uri": "https://localhost:8080/"
        },
        "id": "kfLhkn-z4iLh",
        "outputId": "c3682be5-ff7c-47a4-b2fc-70fe332b3010"
      },
      "source": [
        "%%time\n",
        "sq(100000)"
      ],
      "execution_count": 109,
      "outputs": [
        {
          "output_type": "stream",
          "text": [
            "333328333350000\n",
            "CPU times: user 30.7 ms, sys: 0 ns, total: 30.7 ms\n",
            "Wall time: 31.5 ms\n"
          ],
          "name": "stdout"
        }
      ]
    },
    {
      "cell_type": "code",
      "metadata": {
        "id": "wKrnCE_W4d2U"
      },
      "source": [
        "from numba import jit\n",
        "\n",
        "# @jit(nopython=True)\n",
        "def sq2(n):\n",
        "  s=0\n",
        "  for i in range(n):\n",
        "    s+=i**2\n",
        "  print(s)\n"
      ],
      "execution_count": 111,
      "outputs": []
    },
    {
      "cell_type": "code",
      "metadata": {
        "id": "NounBf7SHYru"
      },
      "source": [
        ""
      ],
      "execution_count": 111,
      "outputs": []
    },
    {
      "cell_type": "code",
      "metadata": {
        "colab": {
          "base_uri": "https://localhost:8080/"
        },
        "id": "kJ8adMEb4oqQ",
        "outputId": "369b20f0-6ed6-4686-90d0-35d6990792d9"
      },
      "source": [
        "%%time\n",
        "ans=jit(nopython=True)(sq2)"
      ],
      "execution_count": 112,
      "outputs": [
        {
          "output_type": "stream",
          "text": [
            "CPU times: user 238 µs, sys: 28 µs, total: 266 µs\n",
            "Wall time: 270 µs\n"
          ],
          "name": "stdout"
        }
      ]
    },
    {
      "cell_type": "code",
      "metadata": {
        "colab": {
          "base_uri": "https://localhost:8080/"
        },
        "id": "4MPf7Ixs459R",
        "outputId": "96973fe5-32c5-4e4a-da88-dfb4ba796e82"
      },
      "source": [
        "%%time \n",
        "ans(100000)"
      ],
      "execution_count": null,
      "outputs": [
        {
          "output_type": "stream",
          "text": [
            "333328333350000\n",
            "CPU times: user 138 µs, sys: 4 µs, total: 142 µs\n",
            "Wall time: 101 µs\n"
          ],
          "name": "stdout"
        }
      ]
    },
    {
      "cell_type": "code",
      "metadata": {
        "id": "wAcMVvXj5FK7"
      },
      "source": [
        ""
      ],
      "execution_count": null,
      "outputs": []
    }
  ]
}